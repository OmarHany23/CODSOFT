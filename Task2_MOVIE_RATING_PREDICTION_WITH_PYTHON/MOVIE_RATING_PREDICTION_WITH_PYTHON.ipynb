{
 "cells": [
  {
   "cell_type": "markdown",
   "id": "f4109dab-c711-4f76-ac15-3ecc96bcaa06",
   "metadata": {},
   "source": [
    "# MOVIE RATING PREDICTION WITH PYTHON\n",
    "## Second CodSoft DataScience Task"
   ]
  },
  {
   "cell_type": "markdown",
   "id": "835d57d8-6f28-4c5d-a79d-c7fe0ea71623",
   "metadata": {},
   "source": [
    "### Importing the necessary libraries"
   ]
  },
  {
   "cell_type": "code",
   "execution_count": null,
   "id": "0d28477a-285a-4e47-b0a2-60b44ce498f9",
   "metadata": {},
   "outputs": [],
   "source": [
    "import numpy as np\n",
    "import pandas as pd\n",
    "import matplotlib.pyplot as plt\n",
    "import seaborn as sns\n",
    "\n",
    "from sklearn.preprocessing import LabelEncoder, MinMaxScaler\n",
    "from sklearn.model_selection import train_test_split\n",
    "from sklearn.linear_model import LogisticRegression\n"
   ]
  },
  {
   "cell_type": "markdown",
   "id": "602a5c78-546b-4e61-a430-6b3f15727cd0",
   "metadata": {},
   "source": [
    "## Load the dataset"
   ]
  },
  {
   "cell_type": "code",
   "execution_count": null,
   "id": "f4863a73-3083-4b12-a856-6f030ed983ef",
   "metadata": {},
   "outputs": [],
   "source": []
  }
 ],
 "metadata": {
  "kernelspec": {
   "display_name": "Python 3 (ipykernel)",
   "language": "python",
   "name": "python3"
  },
  "language_info": {
   "codemirror_mode": {
    "name": "ipython",
    "version": 3
   },
   "file_extension": ".py",
   "mimetype": "text/x-python",
   "name": "python",
   "nbconvert_exporter": "python",
   "pygments_lexer": "ipython3",
   "version": "3.11.5"
  }
 },
 "nbformat": 4,
 "nbformat_minor": 5
}
